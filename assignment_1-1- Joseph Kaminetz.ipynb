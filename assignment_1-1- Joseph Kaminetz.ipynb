{
 "cells": [
  {
   "cell_type": "markdown",
   "id": "87b91d83",
   "metadata": {},
   "source": [
    "# Assignment 1 - Joseph Kaminetz\n",
    "### Understanding Uncertainty\n",
    "### Due 9/5"
   ]
  },
  {
   "cell_type": "markdown",
   "id": "380e339f",
   "metadata": {},
   "source": [
    "1. Create a new public repo on Github under your account. Include a readme file.\n",
    "2. Clone it to your machine. Put this file into that repo.\n",
    "3. Use the following function to download the example data for the course:"
   ]
  },
  {
   "cell_type": "code",
   "execution_count": 19,
   "id": "2d62b4f6",
   "metadata": {},
   "outputs": [
    {
     "name": "stdout",
     "output_type": "stream",
     "text": [
      "Download file already exists\n",
      "Data directory already exists\n"
     ]
    }
   ],
   "source": [
    "def download_data(force=False):\n",
    "    \"\"\"Download and extract course data from Zenodo.\"\"\"\n",
    "    import urllib.request, zipfile, os\n",
    "    \n",
    "    zip_path = 'data.zip'\n",
    "    data_dir = 'data'\n",
    "    \n",
    "    if not os.path.exists(zip_path) or force:\n",
    "        print(\"Downloading course data\")\n",
    "        urllib.request.urlretrieve(\n",
    "            'https://zenodo.org/records/16954427/files/data.zip?download=1',\n",
    "            zip_path\n",
    "        )\n",
    "        print(\"Download complete\")\n",
    "    else:\n",
    "        print(\"Download file already exists\")\n",
    "        \n",
    "    if not os.path.exists(data_dir) or force:\n",
    "        print(\"Extracting data files...\")\n",
    "        with zipfile.ZipFile(zip_path, 'r') as zip_ref:\n",
    "            zip_ref.extractall(data_dir)\n",
    "        print(\"Data extracted\")\n",
    "    else:\n",
    "        print(\"Data directory already exists\")\n",
    "\n",
    "download_data()"
   ]
  },
  {
   "cell_type": "markdown",
   "id": "01db0045",
   "metadata": {},
   "source": [
    "4. Open one of the datasets using Pandas:\n",
    "    1. `ames_prices.csv`: Housing characteristics and prices\n",
    "    2. `college_completion.csv`: Public, nonprofit, and for-profit educational institutions, graduation rates, and financial aid\n",
    "    3. `ForeignGifts_edu.csv`: Monetary and in-kind transfers from foreign entities to U.S. educational institutions\n",
    "    4. `iowa.csv`: Liquor sales in Iowa, at the transaction level\n",
    "    5. `metabric.csv`: Cancer patient and outcome data\n",
    "    6. `mn_police_use_of_force.csv`: Records of physical altercations between Minnessota police and private citizens\n",
    "    7. `nhanes_data_17_18.csv`: National Health and Nutrition Examination Survey\n",
    "    8. `tuna.csv`: Yellowfin Tuna Genome (I don't recommend this one; it's just a sequence of G, C, A, T )\n",
    "    9. `va_procurement.csv`: Public spending by the state of Virginia"
   ]
  },
  {
   "cell_type": "code",
   "execution_count": 20,
   "id": "cf718e0f",
   "metadata": {},
   "outputs": [],
   "source": [
    "import pandas as pd\n",
    "import numpy as np\n",
    "ames = pd.read_csv('data/ames_prices.csv')"
   ]
  },
  {
   "cell_type": "markdown",
   "id": "fa5cade1",
   "metadata": {},
   "source": [
    "5. Pick two or three variables and briefly analyze them\n",
    "    - Is it a categorical or numeric variable?\n",
    "    - How many missing values are there? (`df['var'].isna()` and `np.sum()`)\n",
    "    - If categorical, tabulate the values (`df['var'].value_counts()`) and if numeric, get a summary (`df['var'].describe()`)"
   ]
  },
  {
   "cell_type": "code",
   "execution_count": 21,
   "id": "736171e0",
   "metadata": {},
   "outputs": [
    {
     "name": "stdout",
     "output_type": "stream",
     "text": [
      "Street\n",
      "Pave    2918\n",
      "Grvl      12\n",
      "Name: count, dtype: int64\n",
      "0\n"
     ]
    },
    {
     "data": {
      "image/png": "[encoded data removed]",
      "text/plain": [
       "<Figure size 640x480 with 1 Axes>"
      ]
     },
     "metadata": {},
     "output_type": "display_data"
    }
   ],
   "source": [
    "ames.head()\n",
    "ames['Street'].value_counts()\n",
    "ames['Street'].value_counts().plot(kind='bar')\n",
    "print(ames['Street'].value_counts())\n",
    "street_na = ames['Street'].isna()\n",
    "print(street_na.sum())"
   ]
  },
  {
   "cell_type": "markdown",
   "id": "0e95de83",
   "metadata": {},
   "source": [
    "Street appears to be a categorical variable with 2 factors, pave and gravel. Based on this, I imagine it describes the material of the road that the particular house is at. The classes are extremely imbalanced as there are almost 200 times more paved roads than gravel roads. There are no N/A values."
   ]
  },
  {
   "cell_type": "code",
   "execution_count": 22,
   "id": "b44f3092",
   "metadata": {},
   "outputs": [
    {
     "name": "stdout",
     "output_type": "stream",
     "text": [
      "count      2930.000000\n",
      "mean     180796.060068\n",
      "std       79886.692357\n",
      "min       12789.000000\n",
      "25%      129500.000000\n",
      "50%      160000.000000\n",
      "75%      213500.000000\n",
      "max      755000.000000\n",
      "Name: price, dtype: float64\n",
      "0\n"
     ]
    },
    {
     "data": {
      "text/plain": [
       "<Axes: >"
      ]
     },
     "execution_count": 22,
     "metadata": {},
     "output_type": "execute_result"
    },
    {
     "data": {
      "image/png": "[encoded data removed]",
      "text/plain": [
       "<Figure size 640x480 with 1 Axes>"
      ]
     },
     "metadata": {},
     "output_type": "display_data"
    }
   ],
   "source": [
    "print(ames['price'].describe())\n",
    "NAs_in_price = ames['price'].isna()\n",
    "print(NAs_in_price.sum())\n",
    "ames['price'].hist()\n",
    "\n"
   ]
  },
  {
   "cell_type": "markdown",
   "id": "635d04d3",
   "metadata": {},
   "source": [
    "Price seems to describe the price of the houses sold in Ames Iowa. It is a numeric variable with no N/A values. As we can see by the histogram and the summary table, the average house sells for about $180,000, but the data doesn't appear symetrical. The median would be a better measure of center, around $160,000. "
   ]
  },
  {
   "cell_type": "markdown",
   "id": "dbf2318a",
   "metadata": {},
   "source": [
    "6. What are some questions and prediction tools you could create using these data? Who would the stakeholder be for that prediction tool? What practical or ethical questions would it create? What other data would you want, that are not available in your data?"
   ]
  },
  {
   "cell_type": "markdown",
   "id": "4c69ca6b",
   "metadata": {},
   "source": [
    "There are a lot of questions one could ask in regards to this data. One could ask a very general question, for example, \"What factors impact the price of a house the most\". To answer this question, you could use a random forest model to predict housing price and then use the importance values to see which factors make the strongest affect. While this wouldn't tell you how these variables impact housing, it could tell you which factors are the most important. If you wanted to know how each factor affects housing price you could use multiple linear regression to create a predictie model. The stakeholders for this tool would probably be a real estate agent, who could use it to accurate price houses on the market, or a developer who could use this model to build houses that will sell for more money. There are some questions regarding whether each observation is independent or not, as the housing market can be dependent on previous sales. I don't believe there are any privacy issues with this data. Some additional relevant information that could be had would be the number of bedrooms and bathrooms and the region of Ames the house was sold in."
   ]
  },
  {
   "cell_type": "markdown",
   "id": "d7e0d4d0",
   "metadata": {},
   "source": [
    "If you wanted to ask a more specific question about how a particular variable affects price, you could ask something like \"Does housing price increase over time\". To answer this question, you could run an ANOVA test where each year is it's own factor and see whether housing price is different based on different years. This question might be relevant for economists who might want to know how the state of economy affects housing. More specific dates than just year would be more relevant. The same practical question as the previous question applies here as the observations are probably not independent. "
   ]
  },
  {
   "cell_type": "markdown",
   "id": "a4a7ddc7",
   "metadata": {},
   "source": [
    "7. Commit your work to the repo (`git commit -am 'Finish assignment'` at the command line, or use the Git panel in VS Code). Push your work back to Github and submit the link on Canvas in the assignment tab."
   ]
  }
 ],
 "metadata": {
  "kernelspec": {
   "display_name": "ds6001",
   "language": "python",
   "name": "python3"
  },
  "language_info": {
   "codemirror_mode": {
    "name": "ipython",
    "version": 3
   },
   "file_extension": ".py",
   "mimetype": "text/x-python",
   "name": "python",
   "nbconvert_exporter": "python",
   "pygments_lexer": "ipython3",
   "version": "3.13.5"
  }
 },
 "nbformat": 4,
 "nbformat_minor": 5
}
